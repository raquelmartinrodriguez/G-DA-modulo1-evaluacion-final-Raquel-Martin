{
 "cells": [
  {
   "cell_type": "markdown",
   "metadata": {},
   "source": [
    "## Ejercicio\n"
   ]
  },
  {
   "cell_type": "code",
   "execution_count": 1,
   "metadata": {},
   "outputs": [],
   "source": [
    "class TiendaOnline:\n",
    "\n",
    "    \n",
    "    # podemos entender el constructor como los parámetros de las funciones. Es decir, ¿qué parámetros van \n",
    "    # a ser los que determinen las carácteristicas de nuestra tienda?\n",
    "    def __init__ (self, nombre):\n",
    "        \n",
    "        #Atributos: método llamado constructor\n",
    "        self.nombre = nombre\n",
    "        self.inventario = {} # lista de diccionarios para almacenar los productos en el inventario [{'nombre', 'precio''cantidad'}, {'nombre', 'precio''cantidad'}]\n",
    "        self.clientes = {}   # diccionario para llevar el registro de los clientes. {'Cliente1': {'email': 'cliente1@email.com', 'compras': []},'Cliente2': {'email': 'cliente2@email.com', 'compras': []}}\n",
    "        self.ventas_totales = []\n",
    "\n",
    "#los métodos de la tienda online son:\n",
    "\n",
    "    def agregar_producto (self, nombre, precio, cantidad):\n",
    "\n",
    "        #si el producto ya existe en el inventario:\n",
    "        if nombre in self.inventario:\n",
    "            # Actualiza la cantidad sumando la nueva cantidad a la existente\n",
    "            self.inventario[nombre][1] += cantidad\n",
    "            # e imprime un mensaje indicando que la cantidad se ha actualizado\n",
    "            print(f\"La cantidad de {nombre} se ha actualizado a {self.inventario[nombre][1]} en el inventario.\")\n",
    "\n",
    "            # si el producto no existe:\n",
    "        else:\n",
    "            # lo añadimos al diccionario por asignación directa\n",
    "            self.inventario [nombre] = [precio ,cantidad]\n",
    "            #imprimimos el mensaje de que el producto ha sido añadido al diccionario\n",
    "            print (f'el producto {nombre} ha sido añadido al diccionario')\n",
    "            \n",
    "            #devuelve el diccionario de productos actualizados\n",
    "            return self.inventario\n",
    "        \n",
    "    \n",
    "            \n",
    "    def ver_inventario(self):\n",
    "        # cremos un diccionario vacío que nos permita ver el diccionario con todos los elementos\n",
    "        inventario = {}\n",
    "        # Iteramos a través del diccionario de productos\n",
    "        for nombre, informacion_producto in self.inventario.items():\n",
    "            # Extrae información del producto: nombre, precio y cantidad disponible\n",
    "            precio, cantidad = informacion_producto \n",
    "            # Crea un diccionario con información del producto y su stock\n",
    "            inventario[nombre] = {\n",
    "            \"Precio\": precio,\n",
    "            \"cantidad\": cantidad\n",
    "            }\n",
    "        # Devuelve el diccionario de inventario con toda la información\n",
    "        # muy importante iterar bien este return fuera del bucle para que nos devuelva el diccionario completo\n",
    "        return inventario\n",
    "\n",
    "    \n",
    "    def buscar_producto(self, nombre_a_buscar):\n",
    "        # Inicializamos un diccionario vacío para almacenar los resultados de la búsqueda\n",
    "        resultados = {}\n",
    "\n",
    "        # Iteramos a través del diccionario de productos\n",
    "        for nombre, informacion_producto in self.inventario.items():\n",
    "            # Extraemos información del producto: nombre, precio y cantidad disponible\n",
    "            precio, cantidad = informacion_producto \n",
    "            # Extraemos el nombre del producto y lo conviertimos a minúsculas para hacer la comparación (ya que queremos buscar por nombre del producto)\n",
    "            nombre_producto = nombre.lower()\n",
    "            # Comparamos el nombre del producto con el nombre proporcionado (también en minúsculas)\n",
    "            if nombre_a_buscar.lower() in nombre_producto:\n",
    "             # Si se encuentra una coincidencia, agrega el nombre y la información del producto al diccionario de resultados       \n",
    "                resultados[nombre] = {\n",
    "                \"Precio\": precio,\n",
    "                \"cantidad\": cantidad\n",
    "                }\n",
    "        \n",
    "        # Devuelve un diccionario con los resultados de la búsqueda\n",
    "        return resultados\n",
    "\n",
    "    \n",
    "        \n",
    "    def actualizar_stock(self, nombre_producto, cantidad):\n",
    "        \n",
    "        for nombre_producto in self.inventario:\n",
    "            #primero busca dentro del inventario para ver si el producto ya existe\n",
    "            if nombre_producto in self.inventario:\n",
    "                #si el producto existe, modifica la cantidad de producto\n",
    "                self.inventario[nombre_producto][1] += cantidad # (1 indica el índice de 'cantidad' que es lo que debe actualizarse)\n",
    "            \n",
    "                print(f\"Stock del producto '{nombre_producto}' actualizado a {self.inventario[nombre_producto][1]}.\")\n",
    "            else:\n",
    "                print(f\"No se encontró el producto '{nombre_producto}' en el inventario.\")\n",
    "    \n",
    "    \n",
    "    def eliminar_producto(self, nombre):\n",
    "        # Verifica si el 'nombre' del producto existe en el diccionario de productos\n",
    "        if nombre in self.inventario:\n",
    "            # Si existe, elimina el producto del diccionario de productos\n",
    "            del self.inventario[nombre]\n",
    "            # Imprime un mensaje de éxito\n",
    "            print(\"Producto eliminado con éxito.\")\n",
    "        \n",
    "        else:\n",
    "            # Si el 'nombre' no existe, muestra un mensaje de error\n",
    "            print(f\"No se encontró el producto con nombre {nombre}.\")\n",
    "\n",
    "    def calcular_valor_inventario(self):\n",
    "\n",
    "        # inicializamos valor_total en 0. Acumulará la suma de cada uno de valores de cada cantidad de producto\n",
    "        valor_total = 0\n",
    "        #iteramos a través de los valores del inventario. \n",
    "        \n",
    "        for informacion_producto in self.inventario.values():\n",
    "            #En cada iteración, informacion_producto es una tupla que contiene el precio y la cantidad del producto.\n",
    "            precio, cantidad = informacion_producto\n",
    "            # Calculamos el valor total sumando el producto del precio y la cantidad para cada producto en el inventario.\n",
    "            valor_total += precio * cantidad\n",
    "        #devolvemos el valor total acumulado después de recorrer todo el inventario    \n",
    "        return valor_total\n",
    "    \n",
    "    \n",
    "    \n",
    "    def realizar_compra(self):\n",
    "        # Solicitar información al usuario\n",
    "        nombre_cliente = input('¿Cuál es su nombre? ')\n",
    "\n",
    "        # Bucle while para permitir múltiples compras\n",
    "        while True:\n",
    "            producto_a_comprar = input('¿Qué producto quiere comprar? ')\n",
    "            cantidad_a_comprar = int(input('¿Qué cantidad de producto quiere comprar? '))\n",
    "          \n",
    "\n",
    "            # Verificamos si el 'producto_a_comprar' existe en el diccionario de productos\n",
    "            if producto_a_comprar in self.inventario:\n",
    "                # Verificamos si hay suficiente stock del producto para la venta\n",
    "                if self.inventario[producto_a_comprar][1] >= cantidad_a_comprar:\n",
    "                    # si es así, agregamos la venta a la lista de ventas con información de cliente, producto y cantidad\n",
    "                    self.ventas_totales.append((nombre_cliente, producto_a_comprar, cantidad_a_comprar))\n",
    "                    # Actualizamos el stock del producto restando la cantidad vendida\n",
    "                    self.inventario[producto_a_comprar][1] -= cantidad_a_comprar\n",
    "                    # Imprimimos un mensaje de éxito\n",
    "                    print(f\"Venta de {cantidad_a_comprar} unidades de {producto_a_comprar} realizada con éxito.\")\n",
    "            \n",
    "                else:\n",
    "                    # Si no hay suficiente stock, mostrará un mensaje de error\n",
    "                    print(\"No hay suficiente stock para realizar la venta.\")\n",
    "            else:\n",
    "                # Si el producto no existe, mostrar un mensaje de error\n",
    "                print(\"Producto no encontrado en la base de datos.\")\n",
    "\n",
    "            # Preguntar al usuario si desea realizar otra compra\n",
    "            continuar_comprando = input('¿Desea realizar otra compra? (s/n): ')\n",
    "            if continuar_comprando.lower() != 's':\n",
    "                break  # Salir del bucle si el usuario no desea continuar comprando\n",
    "\n",
    "\n",
    "\n",
    "    def agregar_cliente (self, cliente, email, compras):\n",
    "\n",
    "        if cliente in self.clientes:\n",
    "            print (f'El cliente {cliente} ya existe en el registro de clientes')\n",
    "\n",
    "        else:\n",
    "            #añadimos al cliente al diccionario de clientes por asignación directa\n",
    "            self.clientes [cliente] = [email,compras]\n",
    "\n",
    "            print (f'El cliente {cliente} ha sido añadido con éxito al registro de clientes')\n",
    "\n",
    "            return self.clientes\n",
    "        \n",
    "    def ver_cliente (self):\n",
    "        #creamos un diccionario vacío que nos permita ver el diccionario de todos los clientes\n",
    "        clientes = {}\n",
    "        #iteramos a través del diccionario de clientes:\n",
    "        for cliente, información_cliente in self.clientes.items():\n",
    "            # Extrae información del cliente: dirección de email y compras realizadas\n",
    "            email, compras = información_cliente\n",
    "            #creamos un dicionario con información del cliente\n",
    "            clientes [cliente] = {\n",
    "                'email': email, \n",
    "                'compras realizadas': compras\n",
    "                }\n",
    "        return clientes\n"
   ]
  },
  {
   "cell_type": "code",
   "execution_count": 2,
   "metadata": {},
   "outputs": [],
   "source": [
    "# instanciamos, es decir, creamos un objeto de la clase TiendaOnline (La clase será la plantilla para mi tienda)\n",
    "\n",
    "mi_tienda = TiendaOnline ('Mi tienda online')"
   ]
  },
  {
   "cell_type": "code",
   "execution_count": 3,
   "metadata": {},
   "outputs": [
    {
     "data": {
      "text/plain": [
       "'Mi tienda online'"
      ]
     },
     "execution_count": 3,
     "metadata": {},
     "output_type": "execute_result"
    }
   ],
   "source": [
    "mi_tienda.nombre"
   ]
  },
  {
   "cell_type": "code",
   "execution_count": 4,
   "metadata": {},
   "outputs": [
    {
     "name": "stdout",
     "output_type": "stream",
     "text": [
      "el producto camisa ha sido añadido al diccionario\n",
      "el producto pantalon ha sido añadido al diccionario\n",
      "el producto zapatos ha sido añadido al diccionario\n",
      "La cantidad de camisa se ha actualizado a 100 en el inventario.\n",
      "el producto camiseta ha sido añadido al diccionario\n",
      "el producto jersey ha sido añadido al diccionario\n"
     ]
    }
   ],
   "source": [
    "#añadimos productos al diccionario\n",
    "diccionario_productos = mi_tienda.agregar_producto ('camisa', 20, 50)\n",
    "diccionario_productos = mi_tienda.agregar_producto ('pantalon', 30, 30)\n",
    "diccionario_productos = mi_tienda.agregar_producto ('zapatos', 50, 40)\n",
    "diccionario_productos = mi_tienda.agregar_producto ('camisa', 20, 50)\n",
    "diccionario_productos = mi_tienda.agregar_producto ('camiseta', 15, 23)\n",
    "diccoinario_productos = mi_tienda.agregar_producto ('jersey', 22.50, 17)"
   ]
  },
  {
   "cell_type": "code",
   "execution_count": 5,
   "metadata": {},
   "outputs": [
    {
     "data": {
      "text/plain": [
       "{'camisa': [20, 100],\n",
       " 'pantalon': [30, 30],\n",
       " 'zapatos': [50, 40],\n",
       " 'camiseta': [15, 23],\n",
       " 'jersey': [22.5, 17]}"
      ]
     },
     "execution_count": 5,
     "metadata": {},
     "output_type": "execute_result"
    }
   ],
   "source": [
    "#podemos ver cómo ha quedado nuestro diccionario de productos\n",
    "diccionario_productos"
   ]
  },
  {
   "cell_type": "code",
   "execution_count": 6,
   "metadata": {},
   "outputs": [
    {
     "name": "stdout",
     "output_type": "stream",
     "text": [
      "Inventario Completo:\n",
      "{'camisa': {'Precio': 20, 'cantidad': 100}, 'pantalon': {'Precio': 30, 'cantidad': 30}, 'zapatos': {'Precio': 50, 'cantidad': 40}, 'camiseta': {'Precio': 15, 'cantidad': 23}, 'jersey': {'Precio': 22.5, 'cantidad': 17}}\n"
     ]
    }
   ],
   "source": [
    "# Obtener inventario\n",
    "print(\"Inventario Completo:\")\n",
    "print(mi_tienda.ver_inventario())"
   ]
  },
  {
   "cell_type": "code",
   "execution_count": 7,
   "metadata": {},
   "outputs": [
    {
     "name": "stdout",
     "output_type": "stream",
     "text": [
      "Búsqueda de productos por nombre 'camiseta':\n",
      "{'camiseta': {'Precio': 15, 'cantidad': 23}}\n"
     ]
    }
   ],
   "source": [
    "# Búsqueda de productos por nombre. Podemos buscar cualquier producto que queramos cambiando el nombre del producto. Si el producto existe, nos devolverá \n",
    "# el producto junto con la información. Si no existe, nos devolverá un diccionario vacío.\n",
    "print(\"Búsqueda de productos por nombre 'camiseta':\")\n",
    "print(mi_tienda.buscar_producto('camiseta'))"
   ]
  },
  {
   "cell_type": "code",
   "execution_count": 8,
   "metadata": {},
   "outputs": [
    {
     "name": "stdout",
     "output_type": "stream",
     "text": [
      "Stock del producto 'camisa' actualizado a 90.\n",
      "Stock del producto 'pantalon' actualizado a 20.\n",
      "Stock del producto 'zapatos' actualizado a 30.\n",
      "Stock del producto 'camiseta' actualizado a 13.\n",
      "Stock del producto 'jersey' actualizado a 7.\n"
     ]
    }
   ],
   "source": [
    "# actualizar stock: actualizamos el producto que queramos simplemente introduciendo el nombre del producto y la cantidad. Podemos hacerlo tanto sumando cantidad de producto como restando cantidad de producto (con un número negativo)\n",
    "mi_tienda.actualizar_stock('camiseta', -10)"
   ]
  },
  {
   "cell_type": "code",
   "execution_count": 9,
   "metadata": {},
   "outputs": [
    {
     "data": {
      "text/plain": [
       "{'camisa': {'Precio': 20, 'cantidad': 90},\n",
       " 'pantalon': {'Precio': 30, 'cantidad': 20},\n",
       " 'zapatos': {'Precio': 50, 'cantidad': 30},\n",
       " 'camiseta': {'Precio': 15, 'cantidad': 13},\n",
       " 'jersey': {'Precio': 22.5, 'cantidad': 7}}"
      ]
     },
     "execution_count": 9,
     "metadata": {},
     "output_type": "execute_result"
    }
   ],
   "source": [
    "#revisamos el inventario para comprobar que se ha modificado la cantidad\n",
    "mi_tienda.ver_inventario()"
   ]
  },
  {
   "cell_type": "code",
   "execution_count": 10,
   "metadata": {},
   "outputs": [
    {
     "name": "stdout",
     "output_type": "stream",
     "text": [
      "Producto eliminado con éxito.\n"
     ]
    }
   ],
   "source": [
    "#eliminar producto\n",
    "\n",
    "mi_tienda.eliminar_producto ('pantalon')"
   ]
  },
  {
   "cell_type": "code",
   "execution_count": 11,
   "metadata": {},
   "outputs": [
    {
     "data": {
      "text/plain": [
       "{'camisa': {'Precio': 20, 'cantidad': 90},\n",
       " 'zapatos': {'Precio': 50, 'cantidad': 30},\n",
       " 'camiseta': {'Precio': 15, 'cantidad': 13},\n",
       " 'jersey': {'Precio': 22.5, 'cantidad': 7}}"
      ]
     },
     "execution_count": 11,
     "metadata": {},
     "output_type": "execute_result"
    }
   ],
   "source": [
    "mi_tienda.ver_inventario()"
   ]
  },
  {
   "cell_type": "code",
   "execution_count": 12,
   "metadata": {},
   "outputs": [],
   "source": [
    "#calcular el valor del inventario \n",
    "valor_inventario = mi_tienda.calcular_valor_inventario ()"
   ]
  },
  {
   "cell_type": "code",
   "execution_count": 13,
   "metadata": {},
   "outputs": [
    {
     "name": "stdout",
     "output_type": "stream",
     "text": [
      "el valor actual del inventario completo es 3652.5 euros\n"
     ]
    }
   ],
   "source": [
    "print (f'el valor actual del inventario completo es {valor_inventario} euros')"
   ]
  },
  {
   "cell_type": "code",
   "execution_count": 14,
   "metadata": {},
   "outputs": [
    {
     "name": "stdout",
     "output_type": "stream",
     "text": [
      "Venta de 10 unidades de camiseta realizada con éxito.\n"
     ]
    }
   ],
   "source": [
    "#realizar una venta\n",
    "\n",
    "mi_tienda.realizar_compra()"
   ]
  },
  {
   "cell_type": "code",
   "execution_count": 15,
   "metadata": {},
   "outputs": [
    {
     "data": {
      "text/plain": [
       "{'camisa': {'Precio': 20, 'cantidad': 90},\n",
       " 'zapatos': {'Precio': 50, 'cantidad': 30},\n",
       " 'camiseta': {'Precio': 15, 'cantidad': 3},\n",
       " 'jersey': {'Precio': 22.5, 'cantidad': 7}}"
      ]
     },
     "execution_count": 15,
     "metadata": {},
     "output_type": "execute_result"
    }
   ],
   "source": [
    "mi_tienda.ver_inventario()"
   ]
  },
  {
   "cell_type": "code",
   "execution_count": 16,
   "metadata": {},
   "outputs": [
    {
     "name": "stdout",
     "output_type": "stream",
     "text": [
      "El cliente María Jiménez ha sido añadido con éxito al registro de clientes\n",
      "El cliente Reyes López ha sido añadido con éxito al registro de clientes\n",
      "El cliente Jesús Martínez ha sido añadido con éxito al registro de clientes\n"
     ]
    }
   ],
   "source": [
    "#añadir clientes:\n",
    "\n",
    "registro_clientes = mi_tienda.agregar_cliente ('María Jiménez', 'maria@email.com', 5)\n",
    "registro_clientes = mi_tienda.agregar_cliente ('Reyes López', 'reyeslopez@email.com', 2)\n",
    "registro_clientes = mi_tienda.agregar_cliente ('Jesús Martínez', 'jesusm@email.com', 2)\n"
   ]
  },
  {
   "cell_type": "code",
   "execution_count": 17,
   "metadata": {},
   "outputs": [
    {
     "data": {
      "text/plain": [
       "{'María Jiménez': ['maria@email.com', 5],\n",
       " 'Reyes López': ['reyeslopez@email.com', 2],\n",
       " 'Jesús Martínez': ['jesusm@email.com', 2]}"
      ]
     },
     "execution_count": 17,
     "metadata": {},
     "output_type": "execute_result"
    }
   ],
   "source": [
    "registro_clientes"
   ]
  },
  {
   "cell_type": "code",
   "execution_count": 18,
   "metadata": {},
   "outputs": [
    {
     "data": {
      "text/plain": [
       "{'camisa': {'Precio': 20, 'cantidad': 90},\n",
       " 'zapatos': {'Precio': 50, 'cantidad': 30},\n",
       " 'camiseta': {'Precio': 15, 'cantidad': 3},\n",
       " 'jersey': {'Precio': 22.5, 'cantidad': 7}}"
      ]
     },
     "execution_count": 18,
     "metadata": {},
     "output_type": "execute_result"
    }
   ],
   "source": [
    "# Verificar el estado del inventario después de la venta\n",
    "mi_tienda.ver_inventario()"
   ]
  },
  {
   "cell_type": "code",
   "execution_count": 19,
   "metadata": {},
   "outputs": [
    {
     "name": "stdout",
     "output_type": "stream",
     "text": [
      "Registro de clientes completo:\n",
      "{'María Jiménez': {'email': 'maria@email.com', 'compras realizadas': 5}, 'Reyes López': {'email': 'reyeslopez@email.com', 'compras realizadas': 2}, 'Jesús Martínez': {'email': 'jesusm@email.com', 'compras realizadas': 2}}\n"
     ]
    }
   ],
   "source": [
    "# Obtener registro de clientes\n",
    "print(\"Registro de clientes completo:\")\n",
    "print(mi_tienda.ver_cliente())"
   ]
  },
  {
   "cell_type": "code",
   "execution_count": null,
   "metadata": {},
   "outputs": [],
   "source": []
  }
 ],
 "metadata": {
  "kernelspec": {
   "display_name": "base",
   "language": "python",
   "name": "python3"
  },
  "language_info": {
   "codemirror_mode": {
    "name": "ipython",
    "version": 3
   },
   "file_extension": ".py",
   "mimetype": "text/x-python",
   "name": "python",
   "nbconvert_exporter": "python",
   "pygments_lexer": "ipython3",
   "version": "3.9.7"
  }
 },
 "nbformat": 4,
 "nbformat_minor": 2
}
